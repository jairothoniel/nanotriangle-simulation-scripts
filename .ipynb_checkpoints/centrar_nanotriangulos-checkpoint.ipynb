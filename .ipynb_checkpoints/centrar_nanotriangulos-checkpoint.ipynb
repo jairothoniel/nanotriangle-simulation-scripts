{
 "cells": [
  {
   "cell_type": "code",
   "execution_count": 1,
   "id": "07ec2701-96fa-4c8d-84f9-8698d70584c3",
   "metadata": {},
   "outputs": [
    {
     "name": "stdout",
     "output_type": "stream",
     "text": [
      "El archivo POSCAR centrado ha sido guardado como POSCAR_centrado\n"
     ]
    }
   ],
   "source": [
    "import numpy as np\n",
    "\n",
    "def leer_poscar(nombre_archivo):\n",
    "    with open(nombre_archivo, 'r') as f:\n",
    "        lineas = f.readlines()\n",
    "    \n",
    "    # Leer encabezado\n",
    "    encabezado = lineas[:8]\n",
    "\n",
    "    # Leer vectores de celda\n",
    "    escala = float(encabezado[1].strip())\n",
    "    vectores_celda = np.array([list(map(float, linea.split())) for linea in encabezado[2:5]])\n",
    "\n",
    "    # Leer tipos de átomos y cantidades\n",
    "    elementos = encabezado[5].split()\n",
    "    cantidades = list(map(int, encabezado[6].split()))\n",
    "\n",
    "    # Leer coordenadas de átomos\n",
    "    coordenadas = np.array([list(map(float, linea.split())) for linea in lineas[8:]])\n",
    "\n",
    "    return encabezado, vectores_celda, elementos, cantidades, coordenadas\n",
    "\n",
    "def centrar_nanotriangulo(vectores_celda, coordenadas):\n",
    "    # Calcular los límites de la celda en cada dirección\n",
    "    limites_celda = np.array([vectores_celda[i][i] for i in range(3)])\n",
    "\n",
    "    # Calcular el centro geométrico del nanotriángulo\n",
    "    centro_geom = np.mean(coordenadas, axis=0)\n",
    "\n",
    "    # Calcular el desplazamiento necesario para centrar el nanotriángulo\n",
    "    desplazamiento = 0.5 - centro_geom\n",
    "\n",
    "    # Aplicar el desplazamiento a todas las coordenadas\n",
    "    coordenadas_centradas = coordenadas + desplazamiento\n",
    "\n",
    "    # Asegurarse de que las coordenadas estén dentro de [0, 1]\n",
    "    coordenadas_centradas = coordenadas_centradas % 1.0\n",
    "\n",
    "    return coordenadas_centradas\n",
    "\n",
    "def escribir_poscar(nombre_archivo, encabezado, coordenadas_centradas):\n",
    "    with open(nombre_archivo, 'w') as f:\n",
    "        # Escribir el encabezado\n",
    "        f.writelines(encabezado[:8])\n",
    "\n",
    "        # Escribir las coordenadas centradas\n",
    "        for coord in coordenadas_centradas:\n",
    "            f.write(\"  {: .16f}  {: .16f}  {: .16f}\\n\".format(*coord))\n",
    "\n",
    "def centrar_poscar(nombre_archivo_entrada, nombre_archivo_salida):\n",
    "    encabezado, vectores_celda, elementos, cantidades, coordenadas = leer_poscar(nombre_archivo_entrada)\n",
    "    coordenadas_centradas = centrar_nanotriangulo(vectores_celda, coordenadas)\n",
    "    escribir_poscar(nombre_archivo_salida, encabezado, coordenadas_centradas)\n",
    "    print(f\"El archivo POSCAR centrado ha sido guardado como {nombre_archivo_salida}\")\n",
    "\n",
    "# Uso del script\n",
    "nombre_archivo_entrada = 'POSCAR'\n",
    "nombre_archivo_salida = 'POSCAR_centrado'\n",
    "centrar_poscar(nombre_archivo_entrada, nombre_archivo_salida)\n"
   ]
  },
  {
   "cell_type": "code",
   "execution_count": null,
   "id": "6a166fcf-5696-4290-b35f-713b2598f80f",
   "metadata": {},
   "outputs": [],
   "source": []
  }
 ],
 "metadata": {
  "kernelspec": {
   "display_name": "Python 3 (ipykernel)",
   "language": "python",
   "name": "python3"
  },
  "language_info": {
   "codemirror_mode": {
    "name": "ipython",
    "version": 3
   },
   "file_extension": ".py",
   "mimetype": "text/x-python",
   "name": "python",
   "nbconvert_exporter": "python",
   "pygments_lexer": "ipython3",
   "version": "3.11.7"
  }
 },
 "nbformat": 4,
 "nbformat_minor": 5
}
